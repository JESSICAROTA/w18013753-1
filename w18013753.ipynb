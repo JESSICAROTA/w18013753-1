{
 "cells": [
  {
   "cell_type": "markdown",
   "metadata": {},
   "source": [
    "# Computational Methods for Finance CW"
   ]
  },
  {
   "cell_type": "markdown",
   "metadata": {},
   "source": [
    "## Data"
   ]
  },
  {
   "cell_type": "markdown",
   "metadata": {},
   "source": [
    "we start inserting Yfinance library that make us able to downlond data from Yahoo answer."
   ]
  },
  {
   "cell_type": "code",
   "execution_count": 163,
   "metadata": {},
   "outputs": [
    {
     "name": "stdout",
     "output_type": "stream",
     "text": [
      "Requirement already satisfied: yfinance in ./opt/anaconda3/lib/python3.8/site-packages (0.1.55)\n",
      "Requirement already satisfied: numpy>=1.15 in ./opt/anaconda3/lib/python3.8/site-packages (from yfinance) (1.18.5)\n",
      "Requirement already satisfied: pandas>=0.24 in ./opt/anaconda3/lib/python3.8/site-packages (from yfinance) (1.0.5)\n",
      "Requirement already satisfied: requests>=2.20 in ./opt/anaconda3/lib/python3.8/site-packages (from yfinance) (2.24.0)\n",
      "Requirement already satisfied: multitasking>=0.0.7 in ./opt/anaconda3/lib/python3.8/site-packages (from yfinance) (0.0.9)\n",
      "Requirement already satisfied: lxml>=4.5.1 in ./opt/anaconda3/lib/python3.8/site-packages (from yfinance) (4.5.2)\n",
      "Requirement already satisfied: pytz>=2017.2 in ./opt/anaconda3/lib/python3.8/site-packages (from pandas>=0.24->yfinance) (2020.1)\n",
      "Requirement already satisfied: python-dateutil>=2.6.1 in ./opt/anaconda3/lib/python3.8/site-packages (from pandas>=0.24->yfinance) (2.8.1)\n",
      "Requirement already satisfied: idna<3,>=2.5 in ./opt/anaconda3/lib/python3.8/site-packages (from requests>=2.20->yfinance) (2.10)\n",
      "Requirement already satisfied: certifi>=2017.4.17 in ./opt/anaconda3/lib/python3.8/site-packages (from requests>=2.20->yfinance) (2020.6.20)\n",
      "Requirement already satisfied: chardet<4,>=3.0.2 in ./opt/anaconda3/lib/python3.8/site-packages (from requests>=2.20->yfinance) (3.0.4)\n",
      "Requirement already satisfied: urllib3!=1.25.0,!=1.25.1,<1.26,>=1.21.1 in ./opt/anaconda3/lib/python3.8/site-packages (from requests>=2.20->yfinance) (1.25.9)\n",
      "Requirement already satisfied: six>=1.5 in ./opt/anaconda3/lib/python3.8/site-packages (from python-dateutil>=2.6.1->pandas>=0.24->yfinance) (1.15.0)\n",
      "Note: you may need to restart the kernel to use updated packages.\n"
     ]
    }
   ],
   "source": [
    "pip install yfinance"
   ]
  },
  {
   "cell_type": "markdown",
   "metadata": {},
   "source": [
    "we insert the matplotlib library because, we will upload it to manipulate our data"
   ]
  },
  {
   "cell_type": "code",
   "execution_count": 164,
   "metadata": {},
   "outputs": [
    {
     "name": "stdout",
     "output_type": "stream",
     "text": [
      "Requirement already up-to-date: matplotlib in ./opt/anaconda3/lib/python3.8/site-packages (3.3.3)\n",
      "Requirement already satisfied, skipping upgrade: cycler>=0.10 in ./opt/anaconda3/lib/python3.8/site-packages (from matplotlib) (0.10.0)\n",
      "Requirement already satisfied, skipping upgrade: numpy>=1.15 in ./opt/anaconda3/lib/python3.8/site-packages (from matplotlib) (1.18.5)\n",
      "Requirement already satisfied, skipping upgrade: pyparsing!=2.0.4,!=2.1.2,!=2.1.6,>=2.0.3 in ./opt/anaconda3/lib/python3.8/site-packages (from matplotlib) (2.4.7)\n",
      "Requirement already satisfied, skipping upgrade: pillow>=6.2.0 in ./opt/anaconda3/lib/python3.8/site-packages (from matplotlib) (7.2.0)\n",
      "Requirement already satisfied, skipping upgrade: python-dateutil>=2.1 in ./opt/anaconda3/lib/python3.8/site-packages (from matplotlib) (2.8.1)\n",
      "Requirement already satisfied, skipping upgrade: kiwisolver>=1.0.1 in ./opt/anaconda3/lib/python3.8/site-packages (from matplotlib) (1.2.0)\n",
      "Requirement already satisfied, skipping upgrade: six in ./opt/anaconda3/lib/python3.8/site-packages (from cycler>=0.10->matplotlib) (1.15.0)\n",
      "Note: you may need to restart the kernel to use updated packages.\n"
     ]
    }
   ],
   "source": [
    "pip install -U matplotlib"
   ]
  },
  {
   "cell_type": "markdown",
   "metadata": {},
   "source": [
    "We must work on our data, we decide to uploaad some Python libraries to improve our analysis adding the possibility of insert some graphs for example.\n",
    "\n",
    "Those are:\n",
    "**yfinance** that is our data source, it conatins all our data.\n",
    "**matplotlib** that give us the possibility of add graphs representing our data, this library works well with NumPy.\n",
    "**Numpy** introduce the scientific language in our analysis adding complex calculus formulas, big matrices, and multi-dimensional arrays.\n",
    "**pandas** is a useful library for the manipulation on the data, in particula can be useful in our analysis to manipulate time series of our stock.\n",
    "\n",
    "The names after **as** in our code are the names with we can find our libraries on our Python.\n",
    "\n",
    "We do not need to install before NumPy and pandas because they are yet present on our Python"
   ]
  },
  {
   "cell_type": "code",
   "execution_count": 165,
   "metadata": {},
   "outputs": [],
   "source": [
    "import yfinance as yf\n",
    "import matplotlib as mpl\n",
    "import numpy as np\n",
    "import pandas as pd"
   ]
  },
  {
   "cell_type": "markdown",
   "metadata": {},
   "source": [
    "We decided to downloand and use as first database the American Express stocks, or **AXP** because it is the stock that we decide to use in our analysis. The Cboe Volatility Index, or **VIX** will show us the implicit market volatility expectation of 30 days."
   ]
  },
  {
   "cell_type": "code",
   "execution_count": 166,
   "metadata": {},
   "outputs": [
    {
     "name": "stdout",
     "output_type": "stream",
     "text": [
      "[*********************100%***********************]  1 of 1 completed\n"
     ]
    }
   ],
   "source": [
    "initial_data = yf.download(\"AXP\", start=\"2020-01-01\", end=\"2020-10-30\")"
   ]
  },
  {
   "cell_type": "markdown",
   "metadata": {},
   "source": [
    "We need to see some tables represent the first part of our data to be sure to have the right starting data.\n",
    "*first table* all the first part of our stock period (Adj Close, Close, High, Low, Open, and Volume), first 5 days.\n",
    "*second table* all the last part of our stock period (Adj Close, Close, High, Low, Open, and Volume), last 5 days.\n",
    "*third table* only the first prices of our database after dividends, first 5 days.\n",
    "*fourth table* only the last prices of our database after dividends, last 5 days."
   ]
  },
  {
   "cell_type": "code",
   "execution_count": 167,
   "metadata": {},
   "outputs": [
    {
     "data": {
      "text/html": [
       "<div>\n",
       "<style scoped>\n",
       "    .dataframe tbody tr th:only-of-type {\n",
       "        vertical-align: middle;\n",
       "    }\n",
       "\n",
       "    .dataframe tbody tr th {\n",
       "        vertical-align: top;\n",
       "    }\n",
       "\n",
       "    .dataframe thead th {\n",
       "        text-align: right;\n",
       "    }\n",
       "</style>\n",
       "<table border=\"1\" class=\"dataframe\">\n",
       "  <thead>\n",
       "    <tr style=\"text-align: right;\">\n",
       "      <th></th>\n",
       "      <th>Open</th>\n",
       "      <th>High</th>\n",
       "      <th>Low</th>\n",
       "      <th>Close</th>\n",
       "      <th>Adj Close</th>\n",
       "      <th>Volume</th>\n",
       "    </tr>\n",
       "    <tr>\n",
       "      <th>Date</th>\n",
       "      <th></th>\n",
       "      <th></th>\n",
       "      <th></th>\n",
       "      <th></th>\n",
       "      <th></th>\n",
       "      <th></th>\n",
       "    </tr>\n",
       "  </thead>\n",
       "  <tbody>\n",
       "    <tr>\n",
       "      <th>2019-12-31</th>\n",
       "      <td>124.290001</td>\n",
       "      <td>124.570000</td>\n",
       "      <td>123.779999</td>\n",
       "      <td>124.489998</td>\n",
       "      <td>122.306564</td>\n",
       "      <td>2340400</td>\n",
       "    </tr>\n",
       "    <tr>\n",
       "      <th>2020-01-02</th>\n",
       "      <td>124.660004</td>\n",
       "      <td>126.269997</td>\n",
       "      <td>124.230003</td>\n",
       "      <td>125.849998</td>\n",
       "      <td>124.071274</td>\n",
       "      <td>2708000</td>\n",
       "    </tr>\n",
       "    <tr>\n",
       "      <th>2020-01-03</th>\n",
       "      <td>124.320000</td>\n",
       "      <td>125.099998</td>\n",
       "      <td>123.940002</td>\n",
       "      <td>124.599998</td>\n",
       "      <td>122.838936</td>\n",
       "      <td>2090600</td>\n",
       "    </tr>\n",
       "    <tr>\n",
       "      <th>2020-01-06</th>\n",
       "      <td>123.370003</td>\n",
       "      <td>124.160004</td>\n",
       "      <td>123.120003</td>\n",
       "      <td>124.059998</td>\n",
       "      <td>122.306564</td>\n",
       "      <td>2855200</td>\n",
       "    </tr>\n",
       "    <tr>\n",
       "      <th>2020-01-07</th>\n",
       "      <td>123.470001</td>\n",
       "      <td>124.400002</td>\n",
       "      <td>123.360001</td>\n",
       "      <td>123.410004</td>\n",
       "      <td>121.665756</td>\n",
       "      <td>2042300</td>\n",
       "    </tr>\n",
       "  </tbody>\n",
       "</table>\n",
       "</div>"
      ],
      "text/plain": [
       "                  Open        High         Low       Close   Adj Close  \\\n",
       "Date                                                                     \n",
       "2019-12-31  124.290001  124.570000  123.779999  124.489998  122.306564   \n",
       "2020-01-02  124.660004  126.269997  124.230003  125.849998  124.071274   \n",
       "2020-01-03  124.320000  125.099998  123.940002  124.599998  122.838936   \n",
       "2020-01-06  123.370003  124.160004  123.120003  124.059998  122.306564   \n",
       "2020-01-07  123.470001  124.400002  123.360001  123.410004  121.665756   \n",
       "\n",
       "             Volume  \n",
       "Date                 \n",
       "2019-12-31  2340400  \n",
       "2020-01-02  2708000  \n",
       "2020-01-03  2090600  \n",
       "2020-01-06  2855200  \n",
       "2020-01-07  2042300  "
      ]
     },
     "execution_count": 167,
     "metadata": {},
     "output_type": "execute_result"
    }
   ],
   "source": [
    "initial_data.head()"
   ]
  },
  {
   "cell_type": "code",
   "execution_count": 168,
   "metadata": {},
   "outputs": [
    {
     "data": {
      "text/html": [
       "<div>\n",
       "<style scoped>\n",
       "    .dataframe tbody tr th:only-of-type {\n",
       "        vertical-align: middle;\n",
       "    }\n",
       "\n",
       "    .dataframe tbody tr th {\n",
       "        vertical-align: top;\n",
       "    }\n",
       "\n",
       "    .dataframe thead th {\n",
       "        text-align: right;\n",
       "    }\n",
       "</style>\n",
       "<table border=\"1\" class=\"dataframe\">\n",
       "  <thead>\n",
       "    <tr style=\"text-align: right;\">\n",
       "      <th></th>\n",
       "      <th>Open</th>\n",
       "      <th>High</th>\n",
       "      <th>Low</th>\n",
       "      <th>Close</th>\n",
       "      <th>Adj Close</th>\n",
       "      <th>Volume</th>\n",
       "    </tr>\n",
       "    <tr>\n",
       "      <th>Date</th>\n",
       "      <th></th>\n",
       "      <th></th>\n",
       "      <th></th>\n",
       "      <th></th>\n",
       "      <th></th>\n",
       "      <th></th>\n",
       "    </tr>\n",
       "  </thead>\n",
       "  <tbody>\n",
       "    <tr>\n",
       "      <th>2020-10-23</th>\n",
       "      <td>100.629997</td>\n",
       "      <td>103.639999</td>\n",
       "      <td>100.000000</td>\n",
       "      <td>100.980003</td>\n",
       "      <td>100.980003</td>\n",
       "      <td>8921200</td>\n",
       "    </tr>\n",
       "    <tr>\n",
       "      <th>2020-10-26</th>\n",
       "      <td>99.769997</td>\n",
       "      <td>100.099998</td>\n",
       "      <td>95.779999</td>\n",
       "      <td>96.879997</td>\n",
       "      <td>96.879997</td>\n",
       "      <td>5731500</td>\n",
       "    </tr>\n",
       "    <tr>\n",
       "      <th>2020-10-27</th>\n",
       "      <td>97.620003</td>\n",
       "      <td>97.699997</td>\n",
       "      <td>94.900002</td>\n",
       "      <td>94.930000</td>\n",
       "      <td>94.930000</td>\n",
       "      <td>3780300</td>\n",
       "    </tr>\n",
       "    <tr>\n",
       "      <th>2020-10-28</th>\n",
       "      <td>91.959999</td>\n",
       "      <td>93.570000</td>\n",
       "      <td>91.000000</td>\n",
       "      <td>91.599998</td>\n",
       "      <td>91.599998</td>\n",
       "      <td>7037800</td>\n",
       "    </tr>\n",
       "    <tr>\n",
       "      <th>2020-10-29</th>\n",
       "      <td>91.410004</td>\n",
       "      <td>92.230003</td>\n",
       "      <td>90.129997</td>\n",
       "      <td>91.070000</td>\n",
       "      <td>91.070000</td>\n",
       "      <td>5419500</td>\n",
       "    </tr>\n",
       "  </tbody>\n",
       "</table>\n",
       "</div>"
      ],
      "text/plain": [
       "                  Open        High         Low       Close   Adj Close  \\\n",
       "Date                                                                     \n",
       "2020-10-23  100.629997  103.639999  100.000000  100.980003  100.980003   \n",
       "2020-10-26   99.769997  100.099998   95.779999   96.879997   96.879997   \n",
       "2020-10-27   97.620003   97.699997   94.900002   94.930000   94.930000   \n",
       "2020-10-28   91.959999   93.570000   91.000000   91.599998   91.599998   \n",
       "2020-10-29   91.410004   92.230003   90.129997   91.070000   91.070000   \n",
       "\n",
       "             Volume  \n",
       "Date                 \n",
       "2020-10-23  8921200  \n",
       "2020-10-26  5731500  \n",
       "2020-10-27  3780300  \n",
       "2020-10-28  7037800  \n",
       "2020-10-29  5419500  "
      ]
     },
     "execution_count": 168,
     "metadata": {},
     "output_type": "execute_result"
    }
   ],
   "source": [
    "initial_data.tail()"
   ]
  },
  {
   "cell_type": "code",
   "execution_count": 169,
   "metadata": {},
   "outputs": [
    {
     "data": {
      "text/plain": [
       "Date\n",
       "2019-12-31    122.306564\n",
       "2020-01-02    124.071274\n",
       "2020-01-03    122.838936\n",
       "2020-01-06    122.306564\n",
       "2020-01-07    121.665756\n",
       "Name: Adj Close, dtype: float64"
      ]
     },
     "execution_count": 169,
     "metadata": {},
     "output_type": "execute_result"
    }
   ],
   "source": [
    "initial_data['Adj Close'].head()"
   ]
  },
  {
   "cell_type": "code",
   "execution_count": 170,
   "metadata": {},
   "outputs": [
    {
     "data": {
      "text/plain": [
       "Date\n",
       "2020-10-23    100.980003\n",
       "2020-10-26     96.879997\n",
       "2020-10-27     94.930000\n",
       "2020-10-28     91.599998\n",
       "2020-10-29     91.070000\n",
       "Name: Adj Close, dtype: float64"
      ]
     },
     "execution_count": 170,
     "metadata": {},
     "output_type": "execute_result"
    }
   ],
   "source": [
    "initial_data['Adj Close'].tail()"
   ]
  },
  {
   "cell_type": "markdown",
   "metadata": {},
   "source": [
    "We try to understand our **initial_data** searching some info, there are not null cells and our data is clean. The only column that contains integers is the *Volume*, the others columns  contain numeric values with a floating radix point that occupying 64 bits of memory. The memory format show us how the number in our database can be accurate."
   ]
  },
  {
   "cell_type": "code",
   "execution_count": 173,
   "metadata": {},
   "outputs": [
    {
     "name": "stdout",
     "output_type": "stream",
     "text": [
      "<class 'pandas.core.frame.DataFrame'>\n",
      "DatetimeIndex: 211 entries, 2019-12-31 to 2020-10-29\n",
      "Data columns (total 6 columns):\n",
      " #   Column     Non-Null Count  Dtype  \n",
      "---  ------     --------------  -----  \n",
      " 0   Open       211 non-null    float64\n",
      " 1   High       211 non-null    float64\n",
      " 2   Low        211 non-null    float64\n",
      " 3   Close      211 non-null    float64\n",
      " 4   Adj Close  211 non-null    float64\n",
      " 5   Volume     211 non-null    int64  \n",
      "dtypes: float64(5), int64(1)\n",
      "memory usage: 11.5 KB\n"
     ]
    }
   ],
   "source": [
    "initial_data.info()"
   ]
  },
  {
   "cell_type": "markdown",
   "metadata": {},
   "source": [
    "We create an addictional column in initial_data defining the returns of the stocks. The name of this column is **Rets**"
   ]
  },
  {
   "cell_type": "code",
   "execution_count": 175,
   "metadata": {},
   "outputs": [],
   "source": [
    "initial_data['rets']=np.log(initial_data['Adj Close']/initial_data['Adj Close'].shift(1))"
   ]
  },
  {
   "cell_type": "markdown",
   "metadata": {},
   "source": [
    "We decide to create another table called **data** that contain Adj Close and Rets values and we control with **info command** that it are not null cells/values. The results show data our data no not need to be clean because there are not null cells. However, the Dtype is the same, and in this case represent numeric values with a floating radix point that occupying 64 bits of memory. The memory format show us how the number in our database can be accurate. \n",
    "\n",
    "We control the output looking at the head and the tail of our new table. They must be the same tables of our last 2 tables."
   ]
  },
  {
   "cell_type": "code",
   "execution_count": 176,
   "metadata": {},
   "outputs": [
    {
     "data": {
      "text/html": [
       "<div>\n",
       "<style scoped>\n",
       "    .dataframe tbody tr th:only-of-type {\n",
       "        vertical-align: middle;\n",
       "    }\n",
       "\n",
       "    .dataframe tbody tr th {\n",
       "        vertical-align: top;\n",
       "    }\n",
       "\n",
       "    .dataframe thead th {\n",
       "        text-align: right;\n",
       "    }\n",
       "</style>\n",
       "<table border=\"1\" class=\"dataframe\">\n",
       "  <thead>\n",
       "    <tr style=\"text-align: right;\">\n",
       "      <th></th>\n",
       "      <th>Adj Close</th>\n",
       "      <th>rets</th>\n",
       "    </tr>\n",
       "    <tr>\n",
       "      <th>Date</th>\n",
       "      <th></th>\n",
       "      <th></th>\n",
       "    </tr>\n",
       "  </thead>\n",
       "  <tbody>\n",
       "    <tr>\n",
       "      <th>2019-12-31</th>\n",
       "      <td>122.306564</td>\n",
       "      <td>NaN</td>\n",
       "    </tr>\n",
       "    <tr>\n",
       "      <th>2020-01-02</th>\n",
       "      <td>124.071274</td>\n",
       "      <td>0.014325</td>\n",
       "    </tr>\n",
       "    <tr>\n",
       "      <th>2020-01-03</th>\n",
       "      <td>122.838936</td>\n",
       "      <td>-0.009982</td>\n",
       "    </tr>\n",
       "    <tr>\n",
       "      <th>2020-01-06</th>\n",
       "      <td>122.306564</td>\n",
       "      <td>-0.004343</td>\n",
       "    </tr>\n",
       "    <tr>\n",
       "      <th>2020-01-07</th>\n",
       "      <td>121.665756</td>\n",
       "      <td>-0.005253</td>\n",
       "    </tr>\n",
       "  </tbody>\n",
       "</table>\n",
       "</div>"
      ],
      "text/plain": [
       "             Adj Close      rets\n",
       "Date                            \n",
       "2019-12-31  122.306564       NaN\n",
       "2020-01-02  124.071274  0.014325\n",
       "2020-01-03  122.838936 -0.009982\n",
       "2020-01-06  122.306564 -0.004343\n",
       "2020-01-07  121.665756 -0.005253"
      ]
     },
     "execution_count": 176,
     "metadata": {},
     "output_type": "execute_result"
    }
   ],
   "source": [
    "data=initial_data[['Adj Close', 'rets']]\n",
    "data.head()\n"
   ]
  },
  {
   "cell_type": "code",
   "execution_count": 172,
   "metadata": {},
   "outputs": [
    {
     "name": "stdout",
     "output_type": "stream",
     "text": [
      "<class 'pandas.core.frame.DataFrame'>\n",
      "DatetimeIndex: 152 entries, 2020-03-26 to 2020-10-29\n",
      "Data columns (total 11 columns):\n",
      " #   Column     Non-Null Count  Dtype  \n",
      "---  ------     --------------  -----  \n",
      " 0   Adj Close  152 non-null    float64\n",
      " 1   rets       152 non-null    float64\n",
      " 2   min        152 non-null    float64\n",
      " 3   mean       152 non-null    float64\n",
      " 4   std        152 non-null    float64\n",
      " 5   median     152 non-null    float64\n",
      " 6   max        152 non-null    float64\n",
      " 7   ewma       152 non-null    float64\n",
      " 8   SMA1       152 non-null    float64\n",
      " 9   SMA2       152 non-null    float64\n",
      " 10  positions  152 non-null    int64  \n",
      "dtypes: float64(10), int64(1)\n",
      "memory usage: 19.2 KB\n"
     ]
    }
   ],
   "source": [
    "data.info()"
   ]
  },
  {
   "cell_type": "markdown",
   "metadata": {},
   "source": [
    "We create a couple of graphs representing the 2 columns of our *data* table.\n",
    "We decide:\n",
    "*the size of the figures*, where the first number represent the lenght of the X axis (10) and the second the lenght of Y axis or the height of the figure (6).\n",
    "*the subplots*, is *true* because we would like to have 2 different graphs, with *false* we would obtained only a cumulative graph."
   ]
  },
  {
   "cell_type": "code",
   "execution_count": 87,
   "metadata": {},
   "outputs": [
    {
     "data": {
      "text/plain": [
       "array([<AxesSubplot:xlabel='Date'>, <AxesSubplot:xlabel='Date'>],\n",
       "      dtype=object)"
      ]
     },
     "execution_count": 87,
     "metadata": {},
     "output_type": "execute_result"
    },
    {
     "data": {
      "image/png": "[encoded data removed]",
      "text/plain": [
       "<Figure size 720x432 with 2 Axes>"
      ]
     },
     "metadata": {
      "needs_background": "light"
     },
     "output_type": "display_data"
    }
   ],
   "source": [
    "data.plot(figsize=(10, 6), subplots=True)"
   ]
  },
  {
   "cell_type": "markdown",
   "metadata": {},
   "source": [
    "We inserted a **summary table** of AXP stock between 1st January 2020 and 30th October of this year. This summary present the mean, the standard deviation, the minimum and maximum value ,and the percentiles. In our code the *round* define the width of every column of our table. In this case is 10."
   ]
  },
  {
   "cell_type": "code",
   "execution_count": 88,
   "metadata": {},
   "outputs": [
    {
     "data": {
      "text/html": [
       "<div>\n",
       "<style scoped>\n",
       "    .dataframe tbody tr th:only-of-type {\n",
       "        vertical-align: middle;\n",
       "    }\n",
       "\n",
       "    .dataframe tbody tr th {\n",
       "        vertical-align: top;\n",
       "    }\n",
       "\n",
       "    .dataframe thead th {\n",
       "        text-align: right;\n",
       "    }\n",
       "</style>\n",
       "<table border=\"1\" class=\"dataframe\">\n",
       "  <thead>\n",
       "    <tr style=\"text-align: right;\">\n",
       "      <th></th>\n",
       "      <th>Adj Close</th>\n",
       "      <th>rets</th>\n",
       "    </tr>\n",
       "  </thead>\n",
       "  <tbody>\n",
       "    <tr>\n",
       "      <th>count</th>\n",
       "      <td>211.000000</td>\n",
       "      <td>210.000000</td>\n",
       "    </tr>\n",
       "    <tr>\n",
       "      <th>mean</th>\n",
       "      <td>101.370137</td>\n",
       "      <td>-0.001404</td>\n",
       "    </tr>\n",
       "    <tr>\n",
       "      <th>std</th>\n",
       "      <td>15.287327</td>\n",
       "      <td>0.040650</td>\n",
       "    </tr>\n",
       "    <tr>\n",
       "      <th>min</th>\n",
       "      <td>67.985336</td>\n",
       "      <td>-0.160388</td>\n",
       "    </tr>\n",
       "    <tr>\n",
       "      <th>25%</th>\n",
       "      <td>92.617180</td>\n",
       "      <td>-0.019827</td>\n",
       "    </tr>\n",
       "    <tr>\n",
       "      <th>50%</th>\n",
       "      <td>98.212311</td>\n",
       "      <td>-0.000557</td>\n",
       "    </tr>\n",
       "    <tr>\n",
       "      <th>75%</th>\n",
       "      <td>106.148136</td>\n",
       "      <td>0.015992</td>\n",
       "    </tr>\n",
       "    <tr>\n",
       "      <th>max</th>\n",
       "      <td>134.994659</td>\n",
       "      <td>0.197885</td>\n",
       "    </tr>\n",
       "  </tbody>\n",
       "</table>\n",
       "</div>"
      ],
      "text/plain": [
       "        Adj Close        rets\n",
       "count  211.000000  210.000000\n",
       "mean   101.370137   -0.001404\n",
       "std     15.287327    0.040650\n",
       "min     67.985336   -0.160388\n",
       "25%     92.617180   -0.019827\n",
       "50%     98.212311   -0.000557\n",
       "75%    106.148136    0.015992\n",
       "max    134.994659    0.197885"
      ]
     },
     "execution_count": 88,
     "metadata": {},
     "output_type": "execute_result"
    }
   ],
   "source": [
    "data.describe().round(10)"
   ]
  },
  {
   "cell_type": "markdown",
   "metadata": {},
   "source": [
    "We create a **window** to observe the data inserted in **data** table, in this window will insert min, mean, std, median, max and ewma. \n",
    "In particular, *window=window* identify all the data day to day. \n"
   ]
  },
  {
   "cell_type": "code",
   "execution_count": 183,
   "metadata": {},
   "outputs": [
    {
     "data": {
      "text/html": [
       "<div>\n",
       "<style scoped>\n",
       "    .dataframe tbody tr th:only-of-type {\n",
       "        vertical-align: middle;\n",
       "    }\n",
       "\n",
       "    .dataframe tbody tr th {\n",
       "        vertical-align: top;\n",
       "    }\n",
       "\n",
       "    .dataframe thead th {\n",
       "        text-align: right;\n",
       "    }\n",
       "</style>\n",
       "<table border=\"1\" class=\"dataframe\">\n",
       "  <thead>\n",
       "    <tr style=\"text-align: right;\">\n",
       "      <th></th>\n",
       "      <th>Adj Close</th>\n",
       "      <th>rets</th>\n",
       "      <th>min</th>\n",
       "      <th>mean</th>\n",
       "      <th>std</th>\n",
       "      <th>median</th>\n",
       "      <th>max</th>\n",
       "      <th>ewma</th>\n",
       "    </tr>\n",
       "    <tr>\n",
       "      <th>Date</th>\n",
       "      <th></th>\n",
       "      <th></th>\n",
       "      <th></th>\n",
       "      <th></th>\n",
       "      <th></th>\n",
       "      <th></th>\n",
       "      <th></th>\n",
       "      <th></th>\n",
       "    </tr>\n",
       "  </thead>\n",
       "  <tbody>\n",
       "    <tr>\n",
       "      <th>2020-01-14</th>\n",
       "      <td>126.979584</td>\n",
       "      <td>0.002021</td>\n",
       "      <td>121.665756</td>\n",
       "      <td>124.214219</td>\n",
       "      <td>1.961719</td>\n",
       "      <td>123.918461</td>\n",
       "      <td>126.979584</td>\n",
       "      <td>126.835439</td>\n",
       "    </tr>\n",
       "    <tr>\n",
       "      <th>2020-01-15</th>\n",
       "      <td>127.985168</td>\n",
       "      <td>0.007888</td>\n",
       "      <td>121.665756</td>\n",
       "      <td>124.782079</td>\n",
       "      <td>2.160024</td>\n",
       "      <td>124.776165</td>\n",
       "      <td>127.985168</td>\n",
       "      <td>127.697736</td>\n",
       "    </tr>\n",
       "    <tr>\n",
       "      <th>2020-01-16</th>\n",
       "      <td>128.704849</td>\n",
       "      <td>0.005607</td>\n",
       "      <td>121.665756</td>\n",
       "      <td>125.245437</td>\n",
       "      <td>2.465928</td>\n",
       "      <td>125.742310</td>\n",
       "      <td>128.704849</td>\n",
       "      <td>128.453071</td>\n",
       "    </tr>\n",
       "    <tr>\n",
       "      <th>2020-01-17</th>\n",
       "      <td>129.661148</td>\n",
       "      <td>0.007403</td>\n",
       "      <td>121.665756</td>\n",
       "      <td>125.927658</td>\n",
       "      <td>2.662084</td>\n",
       "      <td>126.363403</td>\n",
       "      <td>129.661148</td>\n",
       "      <td>129.359129</td>\n",
       "    </tr>\n",
       "    <tr>\n",
       "      <th>2020-01-21</th>\n",
       "      <td>128.685135</td>\n",
       "      <td>-0.007556</td>\n",
       "      <td>121.665756</td>\n",
       "      <td>126.565515</td>\n",
       "      <td>2.454089</td>\n",
       "      <td>126.851414</td>\n",
       "      <td>129.661148</td>\n",
       "      <td>128.853633</td>\n",
       "    </tr>\n",
       "  </tbody>\n",
       "</table>\n",
       "</div>"
      ],
      "text/plain": [
       "             Adj Close      rets         min        mean       std  \\\n",
       "Date                                                                 \n",
       "2020-01-14  126.979584  0.002021  121.665756  124.214219  1.961719   \n",
       "2020-01-15  127.985168  0.007888  121.665756  124.782079  2.160024   \n",
       "2020-01-16  128.704849  0.005607  121.665756  125.245437  2.465928   \n",
       "2020-01-17  129.661148  0.007403  121.665756  125.927658  2.662084   \n",
       "2020-01-21  128.685135 -0.007556  121.665756  126.565515  2.454089   \n",
       "\n",
       "                median         max        ewma  \n",
       "Date                                            \n",
       "2020-01-14  123.918461  126.979584  126.835439  \n",
       "2020-01-15  124.776165  127.985168  127.697736  \n",
       "2020-01-16  125.742310  128.704849  128.453071  \n",
       "2020-01-17  126.363403  129.661148  129.359129  \n",
       "2020-01-21  126.851414  129.661148  128.853633  "
      ]
     },
     "execution_count": 183,
     "metadata": {},
     "output_type": "execute_result"
    }
   ],
   "source": [
    "window = 10\n",
    "sym='Adj Close'\n",
    "data['min'] = data[sym].rolling(window=window).min()\n",
    "data['mean'] = data[sym].rolling(window=window).mean()\n",
    "data['std'] = data[sym].rolling(window=window).std()\n",
    "data['median'] = data[sym].rolling(window=window).median()\n",
    "data['max'] = data[sym].rolling(window=window).max()\n",
    "data['ewma'] = data[sym].ewm(halflife=0.5, min_periods=window).mean()\n",
    "data.dropna().head()"
   ]
  },
  {
   "cell_type": "markdown",
   "metadata": {},
   "source": [
    "The graph below show the performance of **min, mean, and max** correlate with the final value of the stock. We can notice that there are not outliers in our database.\n",
    "*iloc[]* define for what parts of the stock performance we would like to observe the addictional lines. In this case we select all the data. With *plot*, as we said before, is possible to define the plot dimensions, with *style*, the color of the axis writing the first letter of the color name with --, we chose yellow, red and green.\n",
    "Moreover, *lw* define the trasparency and thickness in the first case of the addictional lines, in the second one of the stock movements.\n"
   ]
  },
  {
   "cell_type": "code",
   "execution_count": 215,
   "metadata": {},
   "outputs": [
    {
     "data": {
      "image/png": "[encoded data removed]",
      "text/plain": [
       "<Figure size 720x432 with 1 Axes>"
      ]
     },
     "metadata": {
      "needs_background": "light"
     },
     "output_type": "display_data"
    }
   ],
   "source": [
    "ax = data[['min', 'mean', 'max']].iloc[-2000:].plot(figsize=(10, 6), style=['y--', 'r--', 'g--'], lw=0.8)\n",
    "data[sym].iloc[-200:].plot(ax=ax, lw=1.5);"
   ]
  },
  {
   "cell_type": "markdown",
   "metadata": {},
   "source": [
    "We create a couple of columns that contains the mean (.mean()) of the value in 2 different intervals. The first is of 20 days (window=20), the second of 60 days (window=60).\n",
    "In the line 93 instead we will represent the results of these two new columns correlate with the stock movements. "
   ]
  },
  {
   "cell_type": "code",
   "execution_count": 203,
   "metadata": {},
   "outputs": [
    {
     "data": {
      "text/html": [
       "<div>\n",
       "<style scoped>\n",
       "    .dataframe tbody tr th:only-of-type {\n",
       "        vertical-align: middle;\n",
       "    }\n",
       "\n",
       "    .dataframe tbody tr th {\n",
       "        vertical-align: top;\n",
       "    }\n",
       "\n",
       "    .dataframe thead th {\n",
       "        text-align: right;\n",
       "    }\n",
       "</style>\n",
       "<table border=\"1\" class=\"dataframe\">\n",
       "  <thead>\n",
       "    <tr style=\"text-align: right;\">\n",
       "      <th></th>\n",
       "      <th>Adj Close</th>\n",
       "      <th>SMA1</th>\n",
       "      <th>SMA2</th>\n",
       "    </tr>\n",
       "    <tr>\n",
       "      <th>Date</th>\n",
       "      <th></th>\n",
       "      <th></th>\n",
       "      <th></th>\n",
       "    </tr>\n",
       "  </thead>\n",
       "  <tbody>\n",
       "    <tr>\n",
       "      <th>2020-10-23</th>\n",
       "      <td>100.980003</td>\n",
       "      <td>102.820296</td>\n",
       "      <td>100.776664</td>\n",
       "    </tr>\n",
       "    <tr>\n",
       "      <th>2020-10-26</th>\n",
       "      <td>96.879997</td>\n",
       "      <td>102.743848</td>\n",
       "      <td>100.842467</td>\n",
       "    </tr>\n",
       "    <tr>\n",
       "      <th>2020-10-27</th>\n",
       "      <td>94.930000</td>\n",
       "      <td>102.623177</td>\n",
       "      <td>100.872118</td>\n",
       "    </tr>\n",
       "    <tr>\n",
       "      <th>2020-10-28</th>\n",
       "      <td>91.599998</td>\n",
       "      <td>102.211526</td>\n",
       "      <td>100.852078</td>\n",
       "    </tr>\n",
       "    <tr>\n",
       "      <th>2020-10-29</th>\n",
       "      <td>91.070000</td>\n",
       "      <td>101.719599</td>\n",
       "      <td>100.786691</td>\n",
       "    </tr>\n",
       "  </tbody>\n",
       "</table>\n",
       "</div>"
      ],
      "text/plain": [
       "             Adj Close        SMA1        SMA2\n",
       "Date                                          \n",
       "2020-10-23  100.980003  102.820296  100.776664\n",
       "2020-10-26   96.879997  102.743848  100.842467\n",
       "2020-10-27   94.930000  102.623177  100.872118\n",
       "2020-10-28   91.599998  102.211526  100.852078\n",
       "2020-10-29   91.070000  101.719599  100.786691"
      ]
     },
     "execution_count": 203,
     "metadata": {},
     "output_type": "execute_result"
    }
   ],
   "source": [
    "data['SMA1'] = data[sym].rolling(window=20).mean()\n",
    "data['SMA2'] = data[sym].rolling(window=60).mean()\n",
    "data[[sym, 'SMA1', 'SMA2']].tail()"
   ]
  },
  {
   "cell_type": "code",
   "execution_count": 216,
   "metadata": {},
   "outputs": [
    {
     "data": {
      "text/plain": [
       "<AxesSubplot:xlabel='Date'>"
      ]
     },
     "execution_count": 216,
     "metadata": {},
     "output_type": "execute_result"
    },
    {
     "data": {
      "image/png": "[encoded data removed]",
      "text/plain": [
       "<Figure size 720x432 with 1 Axes>"
      ]
     },
     "metadata": {
      "needs_background": "light"
     },
     "output_type": "display_data"
    }
   ],
   "source": [
    "data[[sym, 'SMA1', 'SMA2']].plot(figsize=(10, 6))"
   ]
  },
  {
   "cell_type": "markdown",
   "metadata": {},
   "source": [
    "In the graph below we insert a **position** line that represent the correlation of position between SMA1 and SMA2.\n",
    "The *set_bbox_to_anchor* define the position of the *legend*"
   ]
  },
  {
   "cell_type": "code",
   "execution_count": 217,
   "metadata": {},
   "outputs": [
    {
     "data": {
      "image/png": "[encoded data removed]",
      "text/plain": [
       "<Figure size 720x432 with 2 Axes>"
      ]
     },
     "metadata": {
      "needs_background": "light"
     },
     "output_type": "display_data"
    }
   ],
   "source": [
    "data.dropna(inplace=True)\n",
    "data['positions'] = np.where(data['SMA1'] > data['SMA2'],1,-1)\n",
    "ax = data[[sym, 'SMA1', 'SMA2', 'positions']].plot(figsize=(10, 6),secondary_y='positions')\n",
    "ax.get_legend().set_bbox_to_anchor((-0.09, 0.85))"
   ]
  },
  {
   "cell_type": "markdown",
   "metadata": {},
   "source": [
    "## historical volatility"
   ]
  },
  {
   "cell_type": "markdown",
   "metadata": {},
   "source": [
    "I imported *scipy.stats*, *matplotlib.pyplot*, and *os* because are necessaries to calculate our volatility. "
   ]
  },
  {
   "cell_type": "code",
   "execution_count": 218,
   "metadata": {},
   "outputs": [],
   "source": [
    "import matplotlib.pyplot as plt\n",
    "import scipy.stats as si\n",
    "import os"
   ]
  },
  {
   "cell_type": "markdown",
   "metadata": {},
   "source": [
    "**Historical Volatility**"
   ]
  },
  {
   "cell_type": "markdown",
   "metadata": {},
   "source": [
    "I calculate the Historical Volatility of the stock and before the spot price.\n",
    "When we print the results, the first part in the in the parenthesis define what to write, the second one the value that we must observe."
   ]
  },
  {
   "cell_type": "code",
   "execution_count": 219,
   "metadata": {},
   "outputs": [
    {
     "name": "stdout",
     "output_type": "stream",
     "text": [
      "The spot price is $ 91.07 .\n"
     ]
    }
   ],
   "source": [
    "S = data['Adj Close'][-1]\n",
    "print('The spot price is $', round(S,2), '.')"
   ]
  },
  {
   "cell_type": "code",
   "execution_count": 97,
   "metadata": {},
   "outputs": [
    {
     "name": "stdout",
     "output_type": "stream",
     "text": [
      "The annualised volatility is 50.45 %\n"
     ]
    }
   ],
   "source": [
    "log_return = np.log(data['Adj Close'] / data['Adj Close'].shift(1))\n",
    "vol_h = np.sqrt(252) * log_return.std()\n",
    "print('The annualised volatility is', round(vol_h*100,2), '%')"
   ]
  },
  {
   "cell_type": "markdown",
   "metadata": {},
   "source": [
    "# Option Pricing "
   ]
  },
  {
   "cell_type": "markdown",
   "metadata": {},
   "source": [
    "One month european call option"
   ]
  },
  {
   "cell_type": "markdown",
   "metadata": {},
   "source": [
    "# Monte Carlo"
   ]
  },
  {
   "cell_type": "markdown",
   "metadata": {},
   "source": [
    "**Data Inputs** \n",
    "We install *option-price* that is an option price calculator library because it is necessary to run the model.\n",
    "Moreove we upload *Option* and *datetime*"
   ]
  },
  {
   "cell_type": "code",
   "execution_count": 220,
   "metadata": {},
   "outputs": [
    {
     "name": "stdout",
     "output_type": "stream",
     "text": [
      "Requirement already satisfied: option-price in ./opt/anaconda3/lib/python3.8/site-packages (0.2.0)\n",
      "Requirement already satisfied: scipy in ./opt/anaconda3/lib/python3.8/site-packages (from option-price) (1.5.0)\n",
      "Requirement already satisfied: numpy in ./opt/anaconda3/lib/python3.8/site-packages (from option-price) (1.18.5)\n",
      "Note: you may need to restart the kernel to use updated packages.\n"
     ]
    }
   ],
   "source": [
    "pip install option-price"
   ]
  },
  {
   "cell_type": "code",
   "execution_count": 221,
   "metadata": {},
   "outputs": [],
   "source": [
    "from optionprice import Option\n",
    "from datetime import datetime"
   ]
  },
  {
   "cell_type": "markdown",
   "metadata": {},
   "source": [
    "We start to run the **Monte Carlo Model**, in particular, we define the variables of the formula, the **formula**."
   ]
  },
  {
   "cell_type": "code",
   "execution_count": 222,
   "metadata": {},
   "outputs": [],
   "source": [
    "def mcs_simulation_np(p):\n",
    "    M = p\n",
    "    I = p\n",
    "    dt = T / M \n",
    "    S = np.zeros((M + 1, I))\n",
    "    S[0] = S0 \n",
    "    rn = np.random.standard_normal(S.shape) \n",
    "    for t in range(1, M + 1): \n",
    "        S[t] = S[t-1] * np.exp((r - sigma ** 2 / 2) * dt + sigma * np.sqrt(dt) * rn[t]) \n",
    "    return S"
   ]
  },
  {
   "cell_type": "markdown",
   "metadata": {},
   "source": [
    "We insert the **features** of our European call option"
   ]
  },
  {
   "cell_type": "code",
   "execution_count": 101,
   "metadata": {},
   "outputs": [],
   "source": [
    "S0 = S           # spot stock price\n",
    "K = S*1.05              # strike\n",
    "T = 1/12                # maturity \n",
    "r = 0.01                # risk free rate \n",
    "sigma = vol_h               # diffusion coefficient or volatility \n",
    "q=0.0138 #divident yield"
   ]
  },
  {
   "cell_type": "markdown",
   "metadata": {},
   "source": [
    "We start the simulation with a defined number of random values"
   ]
  },
  {
   "cell_type": "code",
   "execution_count": 150,
   "metadata": {},
   "outputs": [],
   "source": [
    "S_sim = mcs_simulation_np(10000)"
   ]
  },
  {
   "cell_type": "markdown",
   "metadata": {},
   "source": [
    "We define the **array** with the random data. With *transpose* command we invert rows and columns of the data. At the end we will show the results."
   ]
  },
  {
   "cell_type": "code",
   "execution_count": 227,
   "metadata": {},
   "outputs": [
    {
     "data": {
      "text/plain": [
       "array([[ 91.06999969,  91.0609817 ,  91.02426513, ..., 114.2930936 ,\n",
       "        114.35590549, 114.392201  ],\n",
       "       [ 91.06999969,  91.10388888,  90.90982807, ..., 109.33535458,\n",
       "        109.22138837, 109.30821501],\n",
       "       [ 91.06999969,  91.0999526 ,  91.04484581, ...,  87.02924143,\n",
       "         87.00650886,  86.9980451 ],\n",
       "       ...,\n",
       "       [ 91.06999969,  91.08699025,  91.03266063, ..., 100.77354743,\n",
       "        100.94509404, 101.14345572],\n",
       "       [ 91.06999969,  91.12633231,  91.38529952, ...,  99.97979688,\n",
       "         99.84398652, 100.29535023],\n",
       "       [ 91.06999969,  91.02899825,  91.00703384, ...,  86.12957194,\n",
       "         86.15855403,  86.19313936]])"
      ]
     },
     "execution_count": 227,
     "metadata": {},
     "output_type": "execute_result"
    }
   ],
   "source": [
    "S_sim = np.transpose(S_sim)\n",
    "S_sim"
   ]
  },
  {
   "cell_type": "code",
   "execution_count": 228,
   "metadata": {},
   "outputs": [
    {
     "data": {
      "text/plain": [
       "Text(0.5, 1.0, 'Frequency distribution of the simulated end-of-period values')"
      ]
     },
     "execution_count": 228,
     "metadata": {},
     "output_type": "execute_result"
    },
    {
     "data": {
      "image/png": "[encoded data removed]",
      "text/plain": [
       "<Figure size 432x288 with 1 Axes>"
      ]
     },
     "metadata": {
      "needs_background": "light"
     },
     "output_type": "display_data"
    }
   ],
   "source": [
    "import matplotlib.pyplot as plt\n",
    "n, bins, patches = plt.hist(x=S_sim[:,-1], bins='auto', color='#0504aa',alpha=0.7, rwidth=0.85)\n",
    "\n",
    "plt.grid(axis='y', alpha=0.75)\n",
    "plt.xlabel('S_T')\n",
    "plt.ylabel('Frequency')\n",
    "plt.title('Frequency distribution of the simulated end-of-period values')"
   ]
  },
  {
   "cell_type": "markdown",
   "metadata": {},
   "source": [
    "We find the mean value of the Option"
   ]
  },
  {
   "cell_type": "code",
   "execution_count": 230,
   "metadata": {},
   "outputs": [
    {
     "name": "stdout",
     "output_type": "stream",
     "text": [
      "European call 3.433380113594488\n"
     ]
    }
   ],
   "source": [
    "c = np.mean(np.maximum(S_sim[:,-1] - K,0))\n",
    "print('European call', str(c))"
   ]
  },
  {
   "cell_type": "markdown",
   "metadata": {},
   "source": [
    "## Black Scholes Merton Model"
   ]
  },
  {
   "cell_type": "markdown",
   "metadata": {},
   "source": [
    "To start with the **Black Scholes Merton Model** we define the variables in the function, it is not necessary to create them because they has been created previously.\n",
    "We insert the formula to find the call option value."
   ]
  },
  {
   "cell_type": "code",
   "execution_count": 231,
   "metadata": {},
   "outputs": [],
   "source": [
    "def euro_option_bsm(S, K, T, r, q, vol, payoff):\n",
    "    \n",
    "    #S: spot price\n",
    "    #K: strike price\n",
    "    #T: time to maturity\n",
    "    #r: risk free rate\n",
    "    #q: continuous dividend yield\n",
    "    #vol: volatility of underlying asset\n",
    "    #payoff: call\n",
    "    \n",
    "    d1 = (np.log(S / K) + (r - q + 0.5 * vol ** 2) * T) / (vol * np.sqrt(T))\n",
    "    d2 = (np.log(S / K) + (r - q - 0.5 * vol ** 2) * T) / (vol * np.sqrt(T))\n",
    "    if payoff == \"call\":\n",
    "        option_value = S * np.exp(-q * T) * si.norm.cdf(d1, 0.0, 1.0) - K * np.exp(-r * T) * si.norm.cdf(d2, 0.0, 1.0)\n",
    "    \n",
    "    return option_value"
   ]
  },
  {
   "cell_type": "code",
   "execution_count": 232,
   "metadata": {},
   "outputs": [
    {
     "data": {
      "text/plain": [
       "3.4286813595159416"
      ]
     },
     "execution_count": 232,
     "metadata": {},
     "output_type": "execute_result"
    }
   ],
   "source": [
    "euro_option_bsm(S0, K, T, r, q, sigma, 'call')"
   ]
  },
  {
   "cell_type": "markdown",
   "metadata": {},
   "source": [
    "With the code below we define the fields of the *European call graph*, in particular **S_s** define the x-axis, *80* is the first value *160* the last and *21* the distribution in the axis. **cp** define the color of the lines *1*"
   ]
  },
  {
   "cell_type": "code",
   "execution_count": 263,
   "metadata": {},
   "outputs": [],
   "source": [
    "S_s = np.linspace(80,160,21)\n",
    "cp = np.zeros((len(S_s),1))\n",
    "for i in range(len(S_s)):\n",
    "    cp[i] = euro_option_bsm(S_s[i], K, T, r,q, sigma, 'call')"
   ]
  },
  {
   "cell_type": "markdown",
   "metadata": {},
   "source": [
    "We insert a **graph** defining the graphic distance between the two lines, the name of the axises and the legend."
   ]
  },
  {
   "cell_type": "code",
   "execution_count": 268,
   "metadata": {},
   "outputs": [
    {
     "data": {
      "text/plain": [
       "<matplotlib.legend.Legend at 0x7fd8dc2fd1c0>"
      ]
     },
     "execution_count": 268,
     "metadata": {},
     "output_type": "execute_result"
    },
    {
     "data": {
      "image/png": "[encoded data removed]",
      "text/plain": [
       "<Figure size 432x288 with 1 Axes>"
      ]
     },
     "metadata": {
      "needs_background": "light"
     },
     "output_type": "display_data"
    }
   ],
   "source": [
    "fig = plt.figure()\n",
    "plt.plot(S_s, cp, '-')\n",
    "plt.plot(S_s, np.maximum(S_s-100,0), '--')\n",
    "plt.xlabel('Stock Price')\n",
    "plt.ylabel('Price')\n",
    "plt.title('European Call')\n",
    "plt.legend(['Option Price','Payoff at T'])"
   ]
  },
  {
   "cell_type": "markdown",
   "metadata": {},
   "source": [
    "## Greeks"
   ]
  },
  {
   "cell_type": "markdown",
   "metadata": {},
   "source": [
    "We define at least five Greeks to better understand some characteristics of pur European call option, in particular the correlation between the option and the underlying asset.\n",
    "\n",
    "We describe in Delta Greek what has been done to define Greeks, it will be the same in the others Greeks. "
   ]
  },
  {
   "cell_type": "markdown",
   "metadata": {},
   "source": [
    "## Delta "
   ]
  },
  {
   "cell_type": "markdown",
   "metadata": {},
   "source": [
    "We insert the fields of out Option, and the equation to find Delta"
   ]
  },
  {
   "cell_type": "code",
   "execution_count": 287,
   "metadata": {},
   "outputs": [],
   "source": [
    "def delta(S, K, T, r, q, vol, payoff):\n",
    "    \n",
    "    d1 = (np.log(S / K) + (r - q + 0.5 * vol ** 2) * T) / (vol * np.sqrt(T))\n",
    "    if payoff == \"call\":\n",
    "        delta = np.exp(-q * T) * si.norm.cdf(d1, 0.0, 1.0)\n",
    "\n",
    "    \n",
    "    return delta"
   ]
  },
  {
   "cell_type": "markdown",
   "metadata": {},
   "source": [
    "We show Delta"
   ]
  },
  {
   "cell_type": "code",
   "execution_count": 288,
   "metadata": {},
   "outputs": [
    {
     "data": {
      "text/plain": [
       "0.3953033397613688"
      ]
     },
     "execution_count": 288,
     "metadata": {},
     "output_type": "execute_result"
    }
   ],
   "source": [
    "delta(S0, K, T, r, q, sigma, 'call')"
   ]
  },
  {
   "cell_type": "markdown",
   "metadata": {},
   "source": [
    "As we did before, we define the graph fields, the dimension of X-axis, the color of the line, and what the line represent.\n",
    "After, we will define the legend, the names of axises, and the title and we show the graph."
   ]
  },
  {
   "cell_type": "code",
   "execution_count": 289,
   "metadata": {},
   "outputs": [],
   "source": [
    "S_del = np.linspace(50,160,11)\n",
    "Delta_Call = np.zeros((len(S_del),1))\n",
    "\n",
    "for i in range(len(S_del)):\n",
    "    Delta_Call [i] = delta(S_del[i], K, T, r, q, sigma, 'call')"
   ]
  },
  {
   "cell_type": "code",
   "execution_count": 290,
   "metadata": {},
   "outputs": [
    {
     "data": {
      "text/plain": [
       "<matplotlib.legend.Legend at 0x7fd8dcb2f370>"
      ]
     },
     "execution_count": 290,
     "metadata": {},
     "output_type": "execute_result"
    },
    {
     "data": {
      "image/png": "[encoded data removed]",
      "text/plain": [
       "<Figure size 432x288 with 1 Axes>"
      ]
     },
     "metadata": {
      "needs_background": "light"
     },
     "output_type": "display_data"
    }
   ],
   "source": [
    "fig = plt.figure()\n",
    "plt.plot(S_del, Delta_Call, '-')\n",
    "\n",
    "plt.grid()\n",
    "plt.xlabel('Stock Price')\n",
    "plt.ylabel('Delta')\n",
    "plt.title('Delta')\n",
    "plt.legend(['Delta for Call'])"
   ]
  },
  {
   "cell_type": "markdown",
   "metadata": {},
   "source": [
    "## Gamma"
   ]
  },
  {
   "cell_type": "code",
   "execution_count": 291,
   "metadata": {},
   "outputs": [],
   "source": [
    "def gamma(S, K, T, r, q, vol, payoff):\n",
    "    \n",
    "    d1 = (np.log(S / K) + (r - q + 0.5 * vol ** 2) * T) / (vol * np.sqrt(T))\n",
    "    gamma = np.exp(-r * T) * si.norm.pdf(d1, 0.0, 1.0) / (vol * S * T)\n",
    "    \n",
    "    return gamma"
   ]
  },
  {
   "cell_type": "code",
   "execution_count": 292,
   "metadata": {},
   "outputs": [
    {
     "data": {
      "text/plain": [
       "0.10052883294409497"
      ]
     },
     "execution_count": 292,
     "metadata": {},
     "output_type": "execute_result"
    }
   ],
   "source": [
    "gamma(S, K, T, r, q, sigma, 'call')"
   ]
  },
  {
   "cell_type": "code",
   "execution_count": 293,
   "metadata": {},
   "outputs": [],
   "source": [
    "S_g = np.linspace(50,150,11)\n",
    "Gamma = np.zeros((len(S_g),1))\n",
    "for i in range(len(S_g)):\n",
    "    Gamma [i] = gamma(S_g[i], 100, 1, 0.05, 0.03, 0.25, 'call')"
   ]
  },
  {
   "cell_type": "code",
   "execution_count": 294,
   "metadata": {},
   "outputs": [
    {
     "data": {
      "text/plain": [
       "<matplotlib.legend.Legend at 0x7fd8dcbf28e0>"
      ]
     },
     "execution_count": 294,
     "metadata": {},
     "output_type": "execute_result"
    },
    {
     "data": {
      "image/png": "[encoded data removed]",
      "text/plain": [
       "<Figure size 432x288 with 1 Axes>"
      ]
     },
     "metadata": {
      "needs_background": "light"
     },
     "output_type": "display_data"
    }
   ],
   "source": [
    "fig = plt.figure()\n",
    "plt.plot(S_g, Gamma, '-')\n",
    "plt.grid()\n",
    "plt.xlabel('Stock Price')\n",
    "plt.ylabel('Gamma')\n",
    "plt.title('Gamma')\n",
    "plt.legend(['Gamma for Call'])"
   ]
  },
  {
   "cell_type": "markdown",
   "metadata": {},
   "source": [
    "## Rho"
   ]
  },
  {
   "cell_type": "code",
   "execution_count": 295,
   "metadata": {},
   "outputs": [],
   "source": [
    "def rho(S, K, T, r, q, vol, payoff):\n",
    "    \n",
    "    d1 = (np.log(S / K) + (r - q + 0.5 * vol ** 2) * T) / (vol * np.sqrt(T))\n",
    "    d2 = (np.log(S / K) + (r - q - 0.5 * vol ** 2) * T) / (vol * np.sqrt(T))\n",
    "    if payoff == \"call\":\n",
    "        rho =  K * T * np.exp(-r * T) * si.norm.cdf(d2, 0.0, 1.0)\n",
    "    \n",
    "    return rho"
   ]
  },
  {
   "cell_type": "code",
   "execution_count": 296,
   "metadata": {},
   "outputs": [
    {
     "data": {
      "text/plain": [
       "2.714299472659576"
      ]
     },
     "execution_count": 296,
     "metadata": {},
     "output_type": "execute_result"
    }
   ],
   "source": [
    "rho(S, K, T, r, q, sigma, 'call')"
   ]
  },
  {
   "cell_type": "code",
   "execution_count": 297,
   "metadata": {},
   "outputs": [],
   "source": [
    "rr = np.linspace(0,0.1,11)\n",
    "Rho_Call = np.zeros((len(rr),1))\n",
    "Rho_Put = np.zeros((len(rr),1))\n",
    "for i in range(len(rr)):\n",
    "    Rho_Call [i] = rho(100, 100, 1, rr[i], 0.03, 0.25, 'call')"
   ]
  },
  {
   "cell_type": "code",
   "execution_count": 121,
   "metadata": {},
   "outputs": [
    {
     "data": {
      "text/plain": [
       "<matplotlib.legend.Legend at 0x7fd96a72a640>"
      ]
     },
     "execution_count": 121,
     "metadata": {},
     "output_type": "execute_result"
    },
    {
     "data": {
      "image/png": "[encoded data removed]",
      "text/plain": [
       "<Figure size 432x288 with 1 Axes>"
      ]
     },
     "metadata": {
      "needs_background": "light"
     },
     "output_type": "display_data"
    }
   ],
   "source": [
    "fig = plt.figure()\n",
    "plt.plot(rr, Rho_Call, '-')\n",
    "plt.grid()\n",
    "plt.xlabel('Interest Rate')\n",
    "plt.ylabel('Rho')\n",
    "plt.title('Rho')\n",
    "plt.legend(['Rho for Call'])"
   ]
  },
  {
   "cell_type": "markdown",
   "metadata": {},
   "source": [
    "## Speed"
   ]
  },
  {
   "cell_type": "code",
   "execution_count": 122,
   "metadata": {},
   "outputs": [],
   "source": [
    "def speed(S, K, T, r, q, vol, payoff):\n",
    "    \n",
    "    d1 = (np.log(S / K) + (r - q + 0.5 * vol ** 2) * T) / (vol * np.sqrt(T))\n",
    "    speed = np.exp(-q * T) * si.norm.pdf(d1, 0.0, 1.0) / ((vol **2) * (S**2) * T) * (d1 + vol * np.sqrt(T))\n",
    "    \n",
    "    return speed"
   ]
  },
  {
   "cell_type": "code",
   "execution_count": 123,
   "metadata": {},
   "outputs": [
    {
     "data": {
      "text/plain": [
       "-0.00025961100468227874"
      ]
     },
     "execution_count": 123,
     "metadata": {},
     "output_type": "execute_result"
    }
   ],
   "source": [
    "speed(S, K, T, r, q, sigma, 'call')"
   ]
  },
  {
   "cell_type": "code",
   "execution_count": 124,
   "metadata": {},
   "outputs": [],
   "source": [
    "S_s = np.linspace(50,150,11)\n",
    "Speed = np.zeros((len(S_s),1))\n",
    "for i in range(len(S_s)):\n",
    "    Speed [i] = speed(S_s[i], K, T, r, q, sigma, 'call')"
   ]
  },
  {
   "cell_type": "code",
   "execution_count": 125,
   "metadata": {},
   "outputs": [
    {
     "data": {
      "text/plain": [
       "<matplotlib.legend.Legend at 0x7fd96a865340>"
      ]
     },
     "execution_count": 125,
     "metadata": {},
     "output_type": "execute_result"
    },
    {
     "data": {
      "image/png": "[encoded data removed]",
      "text/plain": [
       "<Figure size 432x288 with 1 Axes>"
      ]
     },
     "metadata": {
      "needs_background": "light"
     },
     "output_type": "display_data"
    }
   ],
   "source": [
    "fig = plt.figure()\n",
    "plt.plot(S_s, Speed, '-')\n",
    "plt.grid()\n",
    "plt.xlabel('Stock Price')\n",
    "plt.ylabel('Speed')\n",
    "plt.title('Speed')\n",
    "plt.legend(['Speed for Call'])"
   ]
  },
  {
   "cell_type": "markdown",
   "metadata": {},
   "source": [
    "## Theta"
   ]
  },
  {
   "cell_type": "code",
   "execution_count": 126,
   "metadata": {},
   "outputs": [],
   "source": [
    "def theta(S, K, T, r, q, vol, payoff):\n",
    "    \n",
    "    d1 = (np.log(S / K) + (r - q + 0.5 * vol ** 2) * T) / (vol * np.sqrt(T))\n",
    "    d2 = (np.log(S / K) + (r - q - 0.5 * vol ** 2) * T) / (vol * np.sqrt(T))\n",
    "    if payoff == \"call\":\n",
    "        theta = vol * S * np.exp(-q * T) * si.norm.pdf(d1, 0.0, 1.0) / (2 * np.sqrt(T)) - q * S * np.exp(-q * T) * si.norm.cdf(d1, 0.0, 1.0) + r * K * np.exp(-r * T) * si.norm.cdf(d2, 0.0, 1.0)\n",
    "    \n",
    "    return theta"
   ]
  },
  {
   "cell_type": "code",
   "execution_count": 127,
   "metadata": {},
   "outputs": [
    {
     "data": {
      "text/plain": [
       "30.452985156556814"
      ]
     },
     "execution_count": 127,
     "metadata": {},
     "output_type": "execute_result"
    }
   ],
   "source": [
    "theta(S, K, T, r, q, sigma, 'call')"
   ]
  },
  {
   "cell_type": "code",
   "execution_count": 161,
   "metadata": {},
   "outputs": [
    {
     "data": {
      "text/plain": [
       "2.537748763046401"
      ]
     },
     "execution_count": 161,
     "metadata": {},
     "output_type": "execute_result"
    }
   ],
   "source": [
    "(1/12)*theta(S, K, T, r, q, sigma, 'call')"
   ]
  },
  {
   "cell_type": "code",
   "execution_count": 162,
   "metadata": {},
   "outputs": [
    {
     "data": {
      "text/plain": [
       "0.12084517919268577"
      ]
     },
     "execution_count": 162,
     "metadata": {},
     "output_type": "execute_result"
    }
   ],
   "source": [
    "(1/252)*theta(S, K, T, r, q, sigma, 'call')"
   ]
  },
  {
   "cell_type": "code",
   "execution_count": 129,
   "metadata": {},
   "outputs": [],
   "source": [
    "T_th = np.linspace(0.25,3,12)\n",
    "Theta_Call = np.zeros((len(T_th),1))\n",
    "Theta_Put = np.zeros((len(T_th),1))\n",
    "for i in range(len(T_th)):\n",
    "    Theta_Call [i] = theta(S, K, T_th[i], r, q, sigma, 'call')"
   ]
  },
  {
   "cell_type": "code",
   "execution_count": 130,
   "metadata": {},
   "outputs": [
    {
     "data": {
      "text/plain": [
       "<matplotlib.legend.Legend at 0x7fd96a92eaf0>"
      ]
     },
     "execution_count": 130,
     "metadata": {},
     "output_type": "execute_result"
    },
    {
     "data": {
      "image/png": "[encoded data removed]",
      "text/plain": [
       "<Figure size 432x288 with 1 Axes>"
      ]
     },
     "metadata": {
      "needs_background": "light"
     },
     "output_type": "display_data"
    }
   ],
   "source": [
    "fig = plt.figure()\n",
    "plt.plot(T_th, Theta_Call, '-')\n",
    "plt.grid()\n",
    "plt.xlabel('Time to Expiry')\n",
    "plt.ylabel('Theta')\n",
    "plt.title('Theta')\n",
    "plt.legend(['Theta for Call'])"
   ]
  },
  {
   "cell_type": "markdown",
   "metadata": {},
   "source": [
    "## Vega"
   ]
  },
  {
   "cell_type": "code",
   "execution_count": 131,
   "metadata": {},
   "outputs": [],
   "source": [
    "def vega(S, K, T, r, q, vol, payoff):\n",
    "    \n",
    "    d1 = (np.log(S / K) + (r - q + 0.5 * vol ** 2) * T) / (vol * np.sqrt(T))\n",
    "    vega = S * np.sqrt(T) * np.exp(-q * T) * si.norm.pdf(d1, 0.0, 1.0)\n",
    "    \n",
    "    return vega"
   ]
  },
  {
   "cell_type": "code",
   "execution_count": 132,
   "metadata": {},
   "outputs": [
    {
     "data": {
      "text/plain": [
       "10.116302524108383"
      ]
     },
     "execution_count": 132,
     "metadata": {},
     "output_type": "execute_result"
    }
   ],
   "source": [
    "vega(S, K, T, r, q, sigma, 'call')"
   ]
  },
  {
   "cell_type": "code",
   "execution_count": 133,
   "metadata": {},
   "outputs": [],
   "source": [
    "vol = np.linspace(0.1,0.4,13)\n",
    "Vega = np.zeros((len(vol),1))\n",
    "for i in range(len(vol)):\n",
    "    Vega [i] = vega(S, K, T, r, q, vol[i], 'call')"
   ]
  },
  {
   "cell_type": "code",
   "execution_count": 134,
   "metadata": {},
   "outputs": [
    {
     "data": {
      "text/plain": [
       "<matplotlib.legend.Legend at 0x7fd96a92e9a0>"
      ]
     },
     "execution_count": 134,
     "metadata": {},
     "output_type": "execute_result"
    },
    {
     "data": {
      "image/png": "[encoded data removed]",
      "text/plain": [
       "<Figure size 432x288 with 1 Axes>"
      ]
     },
     "metadata": {
      "needs_background": "light"
     },
     "output_type": "display_data"
    }
   ],
   "source": [
    "fig = plt.figure()\n",
    "plt.plot(vol, Vega, '-')\n",
    "plt.grid()\n",
    "plt.xlabel('Volatility')\n",
    "plt.ylabel('Vega')\n",
    "plt.title('Vega')\n",
    "plt.legend(['Vega for Call'])"
   ]
  }
 ],
 "metadata": {
  "kernelspec": {
   "display_name": "Python 3",
   "language": "python",
   "name": "python3"
  },
  "language_info": {
   "codemirror_mode": {
    "name": "ipython",
    "version": 3
   },
   "file_extension": ".py",
   "mimetype": "text/x-python",
   "name": "python",
   "nbconvert_exporter": "python",
   "pygments_lexer": "ipython3",
   "version": "3.8.3"
  }
 },
 "nbformat": 4,
 "nbformat_minor": 4
}
